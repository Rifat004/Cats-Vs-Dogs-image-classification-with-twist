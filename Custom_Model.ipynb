{
  "cells": [
    {
      "cell_type": "markdown",
      "metadata": {},
      "source": [
        "In mycase, the dataset was saved in google cloud storage. So, I needed to authenticate both bucket and drive with colab.\n",
        "So, anyone can follow code after downloading dataset on their storage."
      ]
    },
    {
      "cell_type": "code",
      "execution_count": null,
      "metadata": {},
      "outputs": [],
      "source": [
        "# # Import PyDrive and associated libraries.\n",
        "# # This only needs to be done once per notebook.\n",
        "# import logging\n",
        "# logging.getLogger('googleapiclient.discovery_cache').setLevel(logging.ERROR)\n",
        "# from pydrive.auth import GoogleAuth\n",
        "# from pydrive.drive import GoogleDrive\n",
        "# from google.colab import auth\n",
        "# from oauth2client.client import GoogleCredentials\n",
        "# import glob\n",
        "# # Authenticate and create the PyDrive client.\n",
        "# # This only needs to be done once per notebook.\n",
        "# auth.authenticate_user()\n",
        "# gauth = GoogleAuth()\n",
        "# gauth.credentials = GoogleCredentials.get_application_default()\n",
        "# drive = GoogleDrive(gauth)"
      ]
    },
    {
      "cell_type": "code",
      "execution_count": 2,
      "metadata": {
        "colab": {
          "base_uri": "https://localhost:8080/"
        },
        "id": "01ZZ-t30vVJB",
        "outputId": "3100f1d4-8c77-4e94-945d-ba1dbe8cd66c"
      },
      "outputs": [
        {
          "name": "stdout",
          "output_type": "stream",
          "text": [
            "Mounted at /content/drive\n"
          ]
        }
      ],
      "source": [
        "from google.colab import drive\n",
        "drive.mount('/content/drive')"
      ]
    },
    {
      "cell_type": "markdown",
      "metadata": {
        "id": "usKfLxIAEcYE"
      },
      "source": [
        "###  Downloading and Saving the dataset in drive"
      ]
    },
    {
      "cell_type": "code",
      "execution_count": null,
      "metadata": {},
      "outputs": [],
      "source": [
        "#give proper bucket address like (gs://cats_vs_dogs_dataset.zip) in place of the arrow below(remove arrow too)\n",
        "!gsutil -mq cp <gs address> ./ "
      ]
    },
    {
      "cell_type": "code",
      "execution_count": null,
      "metadata": {
        "id": "F4TtETrPDBn0"
      },
      "outputs": [],
      "source": [
        "!unzip cats_vs_dogs_dataset.zip -d /content/drive/MyDrive/Dataset/\n"
      ]
    },
    {
      "cell_type": "code",
      "execution_count": 5,
      "metadata": {
        "colab": {
          "base_uri": "https://localhost:8080/"
        },
        "id": "DVX8h8QGEj64",
        "outputId": "9f922e0c-b0d5-476f-c3ec-f52fb54cf9fe"
      },
      "outputs": [
        {
          "name": "stdout",
          "output_type": "stream",
          "text": [
            "8995\n",
            "8995\n",
            "1227\n",
            "3505\n"
          ]
        }
      ],
      "source": [
        "import os\n",
        "print(len(os.listdir('/content/drive/MyDrive/Dataset/dataset/train/dogs')))\n",
        "print(len(os.listdir('/content/drive/MyDrive/Dataset/dataset/train/cats')))\n",
        "print(len(os.listdir('/content/drive/MyDrive/Dataset/dataset/test/dogs')))\n",
        "print(len(os.listdir('/content/drive/MyDrive/Dataset/dataset/test/cats')))"
      ]
    },
    {
      "cell_type": "markdown",
      "metadata": {
        "id": "QpsF7L7ea1f5"
      },
      "source": [
        "### Data Augmentation"
      ]
    },
    {
      "cell_type": "code",
      "execution_count": 6,
      "metadata": {
        "colab": {
          "base_uri": "https://localhost:8080/"
        },
        "id": "eykuV1iyGPhi",
        "outputId": "fde2d17e-327a-4c0b-8889-003d204deeb1"
      },
      "outputs": [
        {
          "name": "stdout",
          "output_type": "stream",
          "text": [
            "Found 15292 images belonging to 2 classes.\n",
            "Found 2698 images belonging to 2 classes.\n",
            "Found 4732 images belonging to 2 classes.\n"
          ]
        }
      ],
      "source": [
        "from tensorflow.keras.preprocessing.image import ImageDataGenerator\n",
        "\n",
        "# Defining the path to your training data directory\n",
        "train_data_dir = '/content/drive/MyDrive/Dataset/dataset/train'\n",
        "test_data_dir = '/content/drive/MyDrive/Dataset/dataset/test'\n",
        "\n",
        "\n",
        "# Data augmentation and preprocessing for training images\n",
        "train_datagen = ImageDataGenerator(\n",
        "    rescale=1.0 / 255,\n",
        "    rotation_range=45,\n",
        "    width_shift_range=0.2,\n",
        "    height_shift_range=0.2,\n",
        "    shear_range=0.2,\n",
        "    zoom_range=0.2,\n",
        "    horizontal_flip=True,\n",
        "    vertical_flip=True,\n",
        "    fill_mode='nearest',\n",
        "    validation_split=0.15\n",
        ")\n",
        "\n",
        "# Setting up data generators for training, validation, and testing\n",
        "batch_size = 64\n",
        "image_width, image_height = 224, 224\n",
        "color_mode = \"rgb\"\n",
        "seed = 42\n",
        "train_generator = train_datagen.flow_from_directory(\n",
        "    train_data_dir,\n",
        "    target_size=(image_width, image_height),\n",
        "    batch_size=batch_size,\n",
        "    class_mode='sparse',\n",
        "    color_mode=color_mode, shuffle=True,  subset='training',  seed=seed\n",
        ")\n",
        "\n",
        "validation_generator = train_datagen.flow_from_directory(\n",
        "    train_data_dir,\n",
        "    target_size=(image_width, image_height),\n",
        "    batch_size=batch_size,\n",
        "    class_mode='sparse',\n",
        "    color_mode=color_mode,\n",
        "    shuffle=False,\n",
        "    subset='validation',\n",
        "    seed=seed\n",
        ")\n",
        "\n",
        "# Data augmentation for testing images\n",
        "test_datagen = ImageDataGenerator(rescale=1.0 / 255)\n",
        "\n",
        "# Set up data generator for testing\n",
        "test_generator = test_datagen.flow_from_directory(\n",
        "    test_data_dir,\n",
        "    target_size=(image_width, image_height),\n",
        "    batch_size=batch_size,\n",
        "    class_mode='sparse',\n",
        "    color_mode=color_mode,\n",
        "    shuffle=False\n",
        ")\n"
      ]
    },
    {
      "cell_type": "markdown",
      "metadata": {
        "id": "quvI2svP4hIE"
      },
      "source": [
        "### Custom Architecture"
      ]
    },
    {
      "cell_type": "code",
      "execution_count": 7,
      "metadata": {
        "id": "vpMwfjG24gk6"
      },
      "outputs": [],
      "source": [
        "import keras\n",
        "from tensorflow.keras import Sequential\n",
        "from tensorflow.keras.models import Model\n",
        "from tensorflow.keras.layers import Input, Flatten, Dense, GlobalAveragePooling2D, BatchNormalization, Dropout, Conv2D, MaxPooling2D\n",
        "\n",
        "# Define the input shape\n",
        "input_shape = (224, 224, 3)  # 224x224 RGB image (3 channels)\n",
        "\n",
        "# Creating a custom architecture\n",
        "\n",
        "model=Sequential()\n",
        "model.add(Conv2D(32,(3,3),activation='relu',input_shape=input_shape))\n",
        "model.add(BatchNormalization())\n",
        "model.add(MaxPooling2D(pool_size=(2,2)))\n",
        "model.add(Dropout(0.25))\n",
        "model.add(Conv2D(64,(3,3),activation='relu'))\n",
        "model.add(BatchNormalization())\n",
        "model.add(MaxPooling2D(pool_size=(2,2)))\n",
        "model.add(Dropout(0.25))\n",
        "model.add(Conv2D(128,(3,3),activation='relu'))\n",
        "model.add(BatchNormalization())\n",
        "model.add(MaxPooling2D(pool_size=(2,2)))\n",
        "model.add(Dropout(0.25))\n",
        "model.add(Flatten())\n",
        "model.add(Dense(512,activation='relu'))\n",
        "model.add(BatchNormalization())\n",
        "model.add(Dropout(0.5))\n",
        "model.add(Dense(2,activation='softmax'))\n"
      ]
    },
    {
      "cell_type": "code",
      "execution_count": 8,
      "metadata": {
        "colab": {
          "base_uri": "https://localhost:8080/"
        },
        "id": "YVXpDFPVS2N6",
        "outputId": "be6b00c2-c959-4146-f8bc-8de6e0de55d2"
      },
      "outputs": [
        {
          "name": "stdout",
          "output_type": "stream",
          "text": [
            "Model: \"sequential\"\n",
            "_________________________________________________________________\n",
            " Layer (type)                Output Shape              Param #   \n",
            "=================================================================\n",
            " conv2d (Conv2D)             (None, 222, 222, 32)      896       \n",
            "                                                                 \n",
            " batch_normalization (BatchN  (None, 222, 222, 32)     128       \n",
            " ormalization)                                                   \n",
            "                                                                 \n",
            " max_pooling2d (MaxPooling2D  (None, 111, 111, 32)     0         \n",
            " )                                                               \n",
            "                                                                 \n",
            " dropout (Dropout)           (None, 111, 111, 32)      0         \n",
            "                                                                 \n",
            " conv2d_1 (Conv2D)           (None, 109, 109, 64)      18496     \n",
            "                                                                 \n",
            " batch_normalization_1 (Batc  (None, 109, 109, 64)     256       \n",
            " hNormalization)                                                 \n",
            "                                                                 \n",
            " max_pooling2d_1 (MaxPooling  (None, 54, 54, 64)       0         \n",
            " 2D)                                                             \n",
            "                                                                 \n",
            " dropout_1 (Dropout)         (None, 54, 54, 64)        0         \n",
            "                                                                 \n",
            " conv2d_2 (Conv2D)           (None, 52, 52, 128)       73856     \n",
            "                                                                 \n",
            " batch_normalization_2 (Batc  (None, 52, 52, 128)      512       \n",
            " hNormalization)                                                 \n",
            "                                                                 \n",
            " max_pooling2d_2 (MaxPooling  (None, 26, 26, 128)      0         \n",
            " 2D)                                                             \n",
            "                                                                 \n",
            " dropout_2 (Dropout)         (None, 26, 26, 128)       0         \n",
            "                                                                 \n",
            " flatten (Flatten)           (None, 86528)             0         \n",
            "                                                                 \n",
            " dense (Dense)               (None, 512)               44302848  \n",
            "                                                                 \n",
            " batch_normalization_3 (Batc  (None, 512)              2048      \n",
            " hNormalization)                                                 \n",
            "                                                                 \n",
            " dropout_3 (Dropout)         (None, 512)               0         \n",
            "                                                                 \n",
            " dense_1 (Dense)             (None, 2)                 1026      \n",
            "                                                                 \n",
            "=================================================================\n",
            "Total params: 44,400,066\n",
            "Trainable params: 44,398,594\n",
            "Non-trainable params: 1,472\n",
            "_________________________________________________________________\n"
          ]
        }
      ],
      "source": [
        "model.summary()"
      ]
    },
    {
      "cell_type": "markdown",
      "metadata": {
        "id": "xuzJCVgVzl_t"
      },
      "source": [
        "### Callback Functions"
      ]
    },
    {
      "cell_type": "code",
      "execution_count": 9,
      "metadata": {
        "id": "oOPXGf4cbPKo"
      },
      "outputs": [],
      "source": [
        "from keras.callbacks import Callback\n",
        "import os\n",
        "import shutil\n",
        "save_interval = 1 # for saving model after each epoch\n",
        "\n",
        "class SaveToBucketCallback(Callback):\n",
        "    def __init__(self, num_epochs=save_interval):\n",
        "        super(SaveToBucketCallback, self).__init__()\n",
        "        self.num_epochs = num_epochs\n",
        "\n",
        "    def on_epoch_end(self, epoch, logs=None):\n",
        "        if (epoch + 1) % self.num_epochs == 0:\n",
        "            filepath = f\"/content/models/Cats_vs_Dogs_custom_model-{epoch+1:02d}.h5\"   #colab directory\n",
        "            # Saving the model including the optimizer state\n",
        "            self.model.save(filepath, include_optimizer=True)\n",
        "\n",
        "            # copying the model file to Google Cloud Storage bucket using gsutil\n",
        "            !gsutil -mq cp {filepath} <bucket address> # replace (bucket address) including the arrow, give proper bucket address if any\n",
        "\n",
        "            print(f\"{filepath} saved in bucket\")\n",
        "\n",
        "class SaveToDriveCallback(Callback):\n",
        "    def __init__(self, num_epochs=save_interval, drive_path='/content/drive/MyDrive/Models'):\n",
        "        super(SaveToDriveCallback, self).__init__()\n",
        "        self.num_epochs = num_epochs\n",
        "        self.drive_path = drive_path\n",
        "\n",
        "    def on_epoch_end(self, epoch, logs=None):\n",
        "        if (epoch + 1) % self.num_epochs == 0:\n",
        "            filepath = f\"/content/models/Cats_vs_Dogs_custom_model-{epoch+1:02d}.h5\"      #colab directory\n",
        "            drive_path = os.path.join(self.drive_path, os.path.basename(filepath))\n",
        "\n",
        "            # Saving the model including the optimizer state\n",
        "            self.model.save(filepath, include_optimizer=True)\n",
        "\n",
        "            # Copying the model file to Google Drive\n",
        "            shutil.copy(filepath, drive_path)\n",
        "\n",
        "            print(f\"{filepath} saved in Google Drive\")\n"
      ]
    },
    {
      "cell_type": "code",
      "execution_count": 10,
      "metadata": {
        "colab": {
          "base_uri": "https://localhost:8080/"
        },
        "id": "fVCIuE2NbO8F",
        "outputId": "9a5cce6d-0173-4f43-9cb9-05452d9ede0f"
      },
      "outputs": [
        {
          "name": "stdout",
          "output_type": "stream",
          "text": [
            "Epoch 1/15\n",
            "239/239 [==============================] - ETA: 0s - loss: 0.7309 - accuracy: 0.6843/content/models/Cats_vs_Dogs_custom_model-01.h5 saved in bucket\n",
            "/content/models/Cats_vs_Dogs_custom_model-01.h5 saved in Google Drive\n",
            "239/239 [==============================] - 330s 1s/step - loss: 0.7309 - accuracy: 0.6843 - val_loss: 1.7069 - val_accuracy: 0.4993\n",
            "Epoch 2/15\n",
            "239/239 [==============================] - ETA: 0s - loss: 0.5405 - accuracy: 0.7347/content/models/Cats_vs_Dogs_custom_model-02.h5 saved in bucket\n",
            "/content/models/Cats_vs_Dogs_custom_model-02.h5 saved in Google Drive\n",
            "239/239 [==============================] - 314s 1s/step - loss: 0.5405 - accuracy: 0.7347 - val_loss: 0.6096 - val_accuracy: 0.6950\n",
            "Epoch 3/15\n",
            "239/239 [==============================] - ETA: 0s - loss: 0.5192 - accuracy: 0.7455/content/models/Cats_vs_Dogs_custom_model-03.h5 saved in bucket\n",
            "/content/models/Cats_vs_Dogs_custom_model-03.h5 saved in Google Drive\n",
            "239/239 [==============================] - 307s 1s/step - loss: 0.5192 - accuracy: 0.7455 - val_loss: 0.5398 - val_accuracy: 0.7013\n",
            "Epoch 4/15\n",
            "239/239 [==============================] - ETA: 0s - loss: 0.4805 - accuracy: 0.7699/content/models/Cats_vs_Dogs_custom_model-04.h5 saved in bucket\n",
            "/content/models/Cats_vs_Dogs_custom_model-04.h5 saved in Google Drive\n",
            "239/239 [==============================] - 315s 1s/step - loss: 0.4805 - accuracy: 0.7699 - val_loss: 0.6049 - val_accuracy: 0.6586\n",
            "Epoch 5/15\n",
            "239/239 [==============================] - ETA: 0s - loss: 0.4554 - accuracy: 0.7885/content/models/Cats_vs_Dogs_custom_model-05.h5 saved in bucket\n",
            "/content/models/Cats_vs_Dogs_custom_model-05.h5 saved in Google Drive\n",
            "239/239 [==============================] - 311s 1s/step - loss: 0.4554 - accuracy: 0.7885 - val_loss: 0.8256 - val_accuracy: 0.6256\n",
            "Epoch 6/15\n",
            "239/239 [==============================] - ETA: 0s - loss: 0.4370 - accuracy: 0.8063/content/models/Cats_vs_Dogs_custom_model-06.h5 saved in bucket\n",
            "/content/models/Cats_vs_Dogs_custom_model-06.h5 saved in Google Drive\n",
            "239/239 [==============================] - 307s 1s/step - loss: 0.4370 - accuracy: 0.8063 - val_loss: 0.4358 - val_accuracy: 0.8032\n",
            "Epoch 7/15\n",
            "239/239 [==============================] - ETA: 0s - loss: 0.4284 - accuracy: 0.8055/content/models/Cats_vs_Dogs_custom_model-07.h5 saved in bucket\n",
            "/content/models/Cats_vs_Dogs_custom_model-07.h5 saved in Google Drive\n",
            "239/239 [==============================] - 311s 1s/step - loss: 0.4284 - accuracy: 0.8055 - val_loss: 0.5619 - val_accuracy: 0.7450\n",
            "Epoch 8/15\n",
            "239/239 [==============================] - ETA: 0s - loss: 0.4056 - accuracy: 0.8202/content/models/Cats_vs_Dogs_custom_model-08.h5 saved in bucket\n",
            "/content/models/Cats_vs_Dogs_custom_model-08.h5 saved in Google Drive\n",
            "239/239 [==============================] - 323s 1s/step - loss: 0.4056 - accuracy: 0.8202 - val_loss: 0.4497 - val_accuracy: 0.7887\n",
            "Epoch 9/15\n",
            "239/239 [==============================] - ETA: 0s - loss: 0.4031 - accuracy: 0.8175/content/models/Cats_vs_Dogs_custom_model-09.h5 saved in bucket\n",
            "/content/models/Cats_vs_Dogs_custom_model-09.h5 saved in Google Drive\n",
            "239/239 [==============================] - 308s 1s/step - loss: 0.4031 - accuracy: 0.8175 - val_loss: 0.4325 - val_accuracy: 0.8002\n",
            "Epoch 10/15\n",
            "239/239 [==============================] - ETA: 0s - loss: 0.3932 - accuracy: 0.8242/content/models/Cats_vs_Dogs_custom_model-10.h5 saved in bucket\n",
            "/content/models/Cats_vs_Dogs_custom_model-10.h5 saved in Google Drive\n",
            "239/239 [==============================] - 314s 1s/step - loss: 0.3932 - accuracy: 0.8242 - val_loss: 0.5543 - val_accuracy: 0.7598\n",
            "Epoch 11/15\n",
            "239/239 [==============================] - ETA: 0s - loss: 0.3907 - accuracy: 0.8270/content/models/Cats_vs_Dogs_custom_model-11.h5 saved in bucket\n",
            "/content/models/Cats_vs_Dogs_custom_model-11.h5 saved in Google Drive\n",
            "239/239 [==============================] - 310s 1s/step - loss: 0.3907 - accuracy: 0.8270 - val_loss: 0.4151 - val_accuracy: 0.8228\n",
            "Epoch 12/15\n",
            "239/239 [==============================] - ETA: 0s - loss: 0.3757 - accuracy: 0.8338/content/models/Cats_vs_Dogs_custom_model-12.h5 saved in bucket\n",
            "/content/models/Cats_vs_Dogs_custom_model-12.h5 saved in Google Drive\n",
            "239/239 [==============================] - 313s 1s/step - loss: 0.3757 - accuracy: 0.8338 - val_loss: 0.3856 - val_accuracy: 0.8354\n",
            "Epoch 13/15\n",
            "239/239 [==============================] - ETA: 0s - loss: 0.3707 - accuracy: 0.8402/content/models/Cats_vs_Dogs_custom_model-13.h5 saved in bucket\n",
            "/content/models/Cats_vs_Dogs_custom_model-13.h5 saved in Google Drive\n",
            "239/239 [==============================] - 331s 1s/step - loss: 0.3707 - accuracy: 0.8402 - val_loss: 0.4058 - val_accuracy: 0.8206\n",
            "Epoch 14/15\n",
            "239/239 [==============================] - ETA: 0s - loss: 0.3558 - accuracy: 0.8434/content/models/Cats_vs_Dogs_custom_model-14.h5 saved in bucket\n",
            "/content/models/Cats_vs_Dogs_custom_model-14.h5 saved in Google Drive\n",
            "239/239 [==============================] - 309s 1s/step - loss: 0.3558 - accuracy: 0.8434 - val_loss: 0.8142 - val_accuracy: 0.6809\n",
            "Epoch 15/15\n",
            "239/239 [==============================] - ETA: 0s - loss: 0.3666 - accuracy: 0.8436/content/models/Cats_vs_Dogs_custom_model-15.h5 saved in bucket\n",
            "/content/models/Cats_vs_Dogs_custom_model-15.h5 saved in Google Drive\n",
            "239/239 [==============================] - 341s 1s/step - loss: 0.3666 - accuracy: 0.8436 - val_loss: 0.4310 - val_accuracy: 0.8202\n"
          ]
        },
        {
          "data": {
            "text/plain": [
              "<keras.callbacks.History at 0x7fdfcb871450>"
            ]
          },
          "execution_count": 10,
          "metadata": {},
          "output_type": "execute_result"
        }
      ],
      "source": [
        "from tensorflow.keras.callbacks import History\n",
        "\n",
        "history = History()\n",
        "\n",
        "# Compile the model\n",
        "model.compile(optimizer='adam', loss='sparse_categorical_crossentropy', metrics=['accuracy'])\n",
        "\n",
        "# Define custom callbacks\n",
        "save_to_bucket_callback = SaveToBucketCallback()\n",
        "save_to_drive_callback = SaveToDriveCallback()\n",
        "\n",
        "# Train the model\n",
        "\n",
        "model.fit(\n",
        "    train_generator, steps_per_epoch=len(train_generator),\n",
        "    epochs=15,\n",
        "    validation_data=validation_generator, validation_steps=len(validation_generator),\n",
        "    callbacks=[save_to_bucket_callback, save_to_drive_callback, history]\n",
        ")"
      ]
    },
    {
      "cell_type": "markdown",
      "metadata": {
        "id": "m4LWOGTRRi18"
      },
      "source": [
        "#### If runtime gets disconnected"
      ]
    },
    {
      "cell_type": "code",
      "execution_count": null,
      "metadata": {
        "id": "Rj5qXGyHtW_Q"
      },
      "outputs": [],
      "source": [
        "'''If runtime disconnects, run this cell to load the saved model\n",
        "For example, Path to the saved checkpoint from epoch n=4\n",
        "saved_checkpoint_filepath = '/content/drive/MyDrive/Models/model-04.h5'\n",
        "initial_epoch=n,  # (counts from 0) It will start from epoch n+1\n",
        "'''\n",
        "#saved_checkpoint_filepath = ''\n",
        "# model = keras.models.load_model(saved_checkpoint_filepath)\n",
        "\n",
        "# # Resume training from where it left off\n",
        "# model.fit(\n",
        "#     train_generator,\n",
        "#     steps_per_epoch=len(train_generator),\n",
        "#     initial_epoch=n  # Start from epoch n+1\n",
        "#     epochs=num_epochs,\n",
        "#     validation_data=validation_generator,\n",
        "#     validation_steps=len(validation_generator),\n",
        "#     callbacks=[\n",
        "#         save_to_bucket_callback,\n",
        "#         save_to_drive_callback,\n",
        "#         history\n",
        "#     ]\n",
        "# )"
      ]
    },
    {
      "cell_type": "markdown",
      "metadata": {
        "id": "m8-bVGD6RrNX"
      },
      "source": [
        "#### Visualization of loss"
      ]
    },
    {
      "cell_type": "code",
      "execution_count": 11,
      "metadata": {
        "colab": {
          "base_uri": "https://localhost:8080/",
          "height": 472
        },
        "id": "6Y2NvuXEHGaD",
        "outputId": "4e5b5842-8de8-4ad9-bfab-1b988a74b30d"
      },
      "outputs": [
        {
          "data": {
            "image/png": "[encoded data removed]",
            "text/plain": [
              "<Figure size 640x480 with 1 Axes>"
            ]
          },
          "metadata": {},
          "output_type": "display_data"
        }
      ],
      "source": [
        "import matplotlib.pyplot as plt\n",
        "# Plot the training and validation loss\n",
        "plt.plot(history.history['loss'], label='Training Loss')\n",
        "plt.plot(history.history['val_loss'], label='Validation Loss')\n",
        "plt.xlabel('Epoch')\n",
        "plt.ylabel('Loss')\n",
        "plt.title('Training and Validation Loss')\n",
        "plt.legend()\n",
        "plt.show()"
      ]
    },
    {
      "cell_type": "code",
      "execution_count": 12,
      "metadata": {
        "colab": {
          "base_uri": "https://localhost:8080/"
        },
        "id": "BuJi49DpIBXw",
        "outputId": "3359441c-92ea-4b87-ae4f-73298452a26e"
      },
      "outputs": [
        {
          "name": "stdout",
          "output_type": "stream",
          "text": [
            "The best epoch is 12 with validation accuracy: 0.8354\n"
          ]
        }
      ],
      "source": [
        "#This code will print the epoch number and the corresponding highest validation accuracy achieved during training\n",
        "\n",
        "best_epoch = history.history['val_accuracy'].index(max(history.history['val_accuracy'])) + 1    # This \"+1\" is for reading the epoch count from 1 not 0\n",
        "print(f\"The best epoch is {best_epoch} with validation accuracy: {max(history.history['val_accuracy']):.4f}\")"
      ]
    },
    {
      "cell_type": "code",
      "execution_count": 13,
      "metadata": {
        "colab": {
          "base_uri": "https://localhost:8080/",
          "height": 760
        },
        "id": "nMEI-6pfG8uK",
        "outputId": "e5ed3585-8e4c-432d-ddea-fd3a4aeb7b88"
      },
      "outputs": [
        {
          "name": "stdout",
          "output_type": "stream",
          "text": [
            "74/74 [==============================] - 23s 306ms/step\n"
          ]
        },
        {
          "data": {
            "image/png": "[encoded data removed]",
            "text/plain": [
              "<Figure size 800x600 with 1 Axes>"
            ]
          },
          "metadata": {},
          "output_type": "display_data"
        },
        {
          "name": "stdout",
          "output_type": "stream",
          "text": [
            "Classification Report:\n",
            "               precision    recall  f1-score   support\n",
            "\n",
            "        cats       0.97      0.55      0.70      3505\n",
            "        dogs       0.42      0.95      0.59      1227\n",
            "\n",
            "    accuracy                           0.65      4732\n",
            "   macro avg       0.70      0.75      0.64      4732\n",
            "weighted avg       0.83      0.65      0.67      4732\n",
            "\n"
          ]
        }
      ],
      "source": [
        "from tensorflow.keras.models import load_model\n",
        "from sklearn.metrics import confusion_matrix, classification_report\n",
        "import numpy as np\n",
        "import seaborn as sns\n",
        "import matplotlib.pyplot as plt\n",
        "\n",
        "# Load a saved model\n",
        "loaded_model = load_model('/content/drive/MyDrive/Models/Cats_vs_Dogs_custom_model-12.h5')\n",
        "\n",
        "# Generate predictions on test data\n",
        "test_predictions = loaded_model.predict(test_generator)\n",
        "\n",
        "# Convert predictions to binary class labels (0 or 1)  # 0 for cat, 1 for dog\n",
        "test_predictions_classes = np.argmax(test_predictions, axis=1)\n",
        "\n",
        "# Get true labels from test generator\n",
        "true_labels = test_generator.classes\n",
        "\n",
        "# Calculate confusion matrix\n",
        "confusion = confusion_matrix(true_labels, test_predictions_classes)\n",
        "\n",
        "# Plotting the confusion matrix\n",
        "plt.figure(figsize=(8, 6))\n",
        "sns.heatmap(confusion, annot=True, fmt=\"d\", cmap=\"Blues\", cbar=False,\n",
        "            xticklabels=test_generator.class_indices.keys(),\n",
        "            yticklabels=test_generator.class_indices.keys())\n",
        "plt.xlabel('Predicted Labels')\n",
        "plt.ylabel('True Labels')\n",
        "plt.title('Confusion Matrix')\n",
        "plt.show()\n",
        "\n",
        "# Generate classification report\n",
        "class_labels = list(test_generator.class_indices.keys())\n",
        "classification_rep = classification_report(true_labels, test_predictions_classes, target_names=class_labels)\n",
        "\n",
        "print(\"Classification Report:\\n\", classification_rep)"
      ]
    },
    {
      "cell_type": "code",
      "execution_count": null,
      "metadata": {
        "id": "NlbGMSBaG8ji"
      },
      "outputs": [],
      "source": []
    }
  ],
  "metadata": {
    "accelerator": "GPU",
    "colab": {
      "gpuType": "T4",
      "provenance": []
    },
    "kernelspec": {
      "display_name": "Python 3",
      "name": "python3"
    },
    "language_info": {
      "name": "python"
    }
  },
  "nbformat": 4,
  "nbformat_minor": 0
}
