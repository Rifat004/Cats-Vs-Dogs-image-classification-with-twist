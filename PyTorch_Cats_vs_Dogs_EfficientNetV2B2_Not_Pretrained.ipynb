{
  "cells": [
    {
      "cell_type": "markdown",
      "metadata": {
        "id": "rZwLofbs1pis"
      },
      "source": [
        "In this notebook, I will use PyTorch for the specified cats vs dogs classification task."
      ]
    },
    {
      "cell_type": "code",
      "execution_count": 1,
      "metadata": {
        "id": "7HxJ2OJIuiJL"
      },
      "outputs": [],
      "source": [
        "# Import PyDrive and associated libraries.\n",
        "# This only needs to be done once per notebook.\n",
        "import logging\n",
        "logging.getLogger('googleapiclient.discovery_cache').setLevel(logging.ERROR)\n",
        "from pydrive.auth import GoogleAuth\n",
        "from pydrive.drive import GoogleDrive\n",
        "from google.colab import auth\n",
        "from oauth2client.client import GoogleCredentials\n",
        "import glob\n",
        "# Authenticate and create the PyDrive client.\n",
        "# This only needs to be done once per notebook.\n",
        "auth.authenticate_user()\n",
        "gauth = GoogleAuth()\n",
        "gauth.credentials = GoogleCredentials.get_application_default()\n",
        "drive = GoogleDrive(gauth)"
      ]
    },
    {
      "cell_type": "code",
      "execution_count": 2,
      "metadata": {
        "colab": {
          "base_uri": "https://localhost:8080/"
        },
        "id": "01ZZ-t30vVJB",
        "outputId": "c5326abb-bf7f-492b-99f4-51e6af0ca325"
      },
      "outputs": [
        {
          "name": "stdout",
          "output_type": "stream",
          "text": [
            "Mounted at /content/drive\n"
          ]
        }
      ],
      "source": [
        "from google.colab import drive\n",
        "drive.mount('/content/drive')"
      ]
    },
    {
      "cell_type": "markdown",
      "metadata": {
        "id": "usKfLxIAEcYE"
      },
      "source": [
        "### Downloading the dataset"
      ]
    },
    {
      "cell_type": "code",
      "execution_count": 3,
      "metadata": {
        "id": "cAvxgozrvuug"
      },
      "outputs": [],
      "source": [
        "!gsutil -mq cp gs://a/b/c/datasets/cats_vs_dogs_dataset.zip ./  ##use your path"
      ]
    },
    {
      "cell_type": "code",
      "execution_count": null,
      "metadata": {
        "id": "F4TtETrPDBn0"
      },
      "outputs": [],
      "source": [
        "!unzip cats_vs_dogs_dataset.zip -d /content/drive/MyDrive/Dataset/\n"
      ]
    },
    {
      "cell_type": "code",
      "execution_count": 5,
      "metadata": {
        "colab": {
          "base_uri": "https://localhost:8080/"
        },
        "id": "DVX8h8QGEj64",
        "outputId": "c5ddff3a-a280-495b-9bde-81c5a7998003"
      },
      "outputs": [
        {
          "name": "stdout",
          "output_type": "stream",
          "text": [
            "8995\n",
            "8995\n",
            "1227\n",
            "3505\n"
          ]
        }
      ],
      "source": [
        "import os\n",
        "print(len(os.listdir('/content/drive/MyDrive/Dataset/dataset/train/dogs')))\n",
        "print(len(os.listdir('/content/drive/MyDrive/Dataset/dataset/train/cats')))\n",
        "print(len(os.listdir('/content/drive/MyDrive/Dataset/dataset/test/dogs')))\n",
        "print(len(os.listdir('/content/drive/MyDrive/Dataset/dataset/test/cats')))"
      ]
    },
    {
      "cell_type": "markdown",
      "metadata": {
        "id": "7TsS6HzrPew2"
      },
      "source": [
        "#### Installing and importing Libraries"
      ]
    },
    {
      "cell_type": "code",
      "execution_count": null,
      "metadata": {
        "id": "zmhU3EpiPedn"
      },
      "outputs": [],
      "source": [
        "!pip install wandb\n",
        "!pip install efficientnet_pytorch\n",
        "!pip install timm"
      ]
    },
    {
      "cell_type": "code",
      "execution_count": 7,
      "metadata": {
        "id": "CGZo9o8OPnLR"
      },
      "outputs": [],
      "source": [
        "import torch\n",
        "import torch.nn as nn\n",
        "import torch.optim as optim\n",
        "import timm\n",
        "from torchvision import transforms\n",
        "from torchvision.datasets import ImageFolder\n",
        "from torch.utils.data import DataLoader, Subset\n",
        "from sklearn.model_selection import train_test_split\n",
        "import os\n",
        "import wandb\n",
        "from sklearn.metrics import classification_report, confusion_matrix\n",
        "import matplotlib.pyplot as plt\n",
        "import seaborn as sns\n",
        "import numpy as np"
      ]
    },
    {
      "cell_type": "code",
      "execution_count": null,
      "metadata": {
        "colab": {
          "base_uri": "https://localhost:8080/",
          "height": 631
        },
        "id": "csUsM92EPxdW",
        "outputId": "d5ce7621-4241-450b-b6df-6d1483913a2c"
      },
      "outputs": [],
      "source": [
        "# Setting up WANDB\n",
        "wandb.login(key=\"Give your key here\")\n",
        "wandb.init(project=\"CatvsDog_EfficientNetV2B2\", name='Run_Without_Pretrained')"
      ]
    },
    {
      "cell_type": "markdown",
      "metadata": {
        "id": "QpsF7L7ea1f5"
      },
      "source": [
        "### Data Augmentation and Splitting into Train-Validation-Test"
      ]
    },
    {
      "cell_type": "code",
      "execution_count": 8,
      "metadata": {
        "colab": {
          "base_uri": "https://localhost:8080/"
        },
        "id": "BWNGNY3pQ12M",
        "outputId": "42387dad-b667-404f-de7a-ffca0de0dee8"
      },
      "outputs": [
        {
          "name": "stdout",
          "output_type": "stream",
          "text": [
            "Train dataset: 15292 images belonging to 2 classes.\n",
            "Validation dataset: 2698 images belonging to 2 classes.\n",
            "Test dataset: 4732 images belonging to 2 classes.\n"
          ]
        }
      ],
      "source": [
        "import torch\n",
        "import torchvision.transforms as transforms\n",
        "from torchvision.datasets import ImageFolder\n",
        "from torch.utils.data import DataLoader, Subset\n",
        "from sklearn.model_selection import train_test_split\n",
        "\n",
        "# Define paths to your training and test data directories\n",
        "train_data_dir = '/content/drive/MyDrive/Dataset/dataset/train'\n",
        "test_data_dir = '/content/drive/MyDrive/Dataset/dataset/test'\n",
        "\n",
        "# Define data transformations\n",
        "transform = transforms.Compose([\n",
        "    transforms.Resize((224, 224)),\n",
        "    transforms.RandomRotation(degrees=(-45, 45)),\n",
        "    transforms.RandomHorizontalFlip(),\n",
        "    transforms.RandomVerticalFlip(),\n",
        "    transforms.ColorJitter(brightness=0.2, contrast=0.2, saturation=0.2, hue=0.2),\n",
        "    transforms.ToTensor(),\n",
        "    transforms.Normalize(mean=[0.485, 0.456, 0.406], std=[0.229, 0.224, 0.225])\n",
        "])\n",
        "\n",
        "# Load train dataset\n",
        "train_dataset = ImageFolder(root=train_data_dir, transform=transform)\n",
        "\n",
        "# Calculate the number of samples for validation\n",
        "validation_size = int(0.15 * len(train_dataset))\n",
        "\n",
        "# Split the train dataset into train and validation sets using train_test_split\n",
        "train_indices, validation_indices = train_test_split(\n",
        "    range(len(train_dataset)),\n",
        "    test_size=validation_size,\n",
        "    stratify=train_dataset.targets,  # Making sure the class distribution is preserved\n",
        "    random_state=42\n",
        ")\n",
        "\n",
        "# Create Subset classes for train and validation datasets\n",
        "train_subset = Subset(train_dataset, train_indices)\n",
        "validation_subset = Subset(train_dataset, validation_indices)\n",
        "\n",
        "# Define batch size and create data loaders\n",
        "batch_size = 64\n",
        "train_loader = DataLoader(train_subset, batch_size=batch_size, shuffle=True)\n",
        "validation_loader = DataLoader(validation_subset, batch_size=batch_size, shuffle=False)\n",
        "\n",
        "# Load test dataset\n",
        "test_dataset = ImageFolder(root=test_data_dir, transform=transform)\n",
        "test_loader = DataLoader(test_dataset, batch_size=batch_size, shuffle=False)\n",
        "\n",
        "# Print dataset sizes\n",
        "print(f\"Train dataset: {len(train_subset)} images belonging to {len(train_dataset.classes)} classes.\")\n",
        "print(f\"Validation dataset: {len(validation_subset)} images belonging to {len(train_dataset.classes)} classes.\")\n",
        "print(f\"Test dataset: {len(test_dataset)} images belonging to {len(test_dataset.classes)} classes.\")"
      ]
    },
    {
      "cell_type": "markdown",
      "metadata": {
        "id": "quvI2svP4hIE"
      },
      "source": [
        "### Model Definition"
      ]
    },
    {
      "cell_type": "code",
      "execution_count": null,
      "metadata": {
        "id": "HHbc8k2AP71O"
      },
      "outputs": [],
      "source": [
        "#to check the list of PyTorch Image Models\n",
        "timm.list_models()"
      ]
    },
    {
      "cell_type": "code",
      "execution_count": 9,
      "metadata": {
        "id": "PCCsabiwN1rQ"
      },
      "outputs": [],
      "source": [
        "# Check for GPU availability and set the device\n",
        "device = torch.device(\"cuda:0\" if torch.cuda.is_available() else \"cpu\")\n",
        "\n",
        "# Define the EfficientNetV2-B2 model\n",
        "model = timm.create_model('tf_efficientnetv2_b2', pretrained=False, num_classes=2).to(device)\n",
        "\n",
        "# Define loss function and optimizer\n",
        "criterion = nn.CrossEntropyLoss()\n",
        "optimizer = optim.Adam(model.parameters(), lr=0.001)\n"
      ]
    },
    {
      "cell_type": "markdown",
      "metadata": {
        "id": "lAc60gCpQrcQ"
      },
      "source": [
        "### Training and validation"
      ]
    },
    {
      "cell_type": "code",
      "execution_count": 13,
      "metadata": {
        "colab": {
          "base_uri": "https://localhost:8080/",
          "height": 915,
          "referenced_widgets": [
            "d65d5cd78266453692edf19420b0ddec",
            "7225e974b2f044e9969c1e44710329e5",
            "05a57d0ea47c43cb96a7aa3a10c4440b",
            "b0c35789530a40cbbd6d89b7ea8c3161",
            "0bfb1ce86d104999a4a68ab807e551a3",
            "ce8a1982f9d3413fa2e701b7b4a4979d",
            "9138a3af225d4251bd37fc850c709d70",
            "2b56925459ae47a7ac8da8157ccabd7c"
          ]
        },
        "id": "jNVocDvtKtpy",
        "outputId": "76cb0007-5ecf-4ab4-81a9-f351fcad5d20"
      },
      "outputs": [
        {
          "name": "stdout",
          "output_type": "stream",
          "text": [
            "Epoch [1/15] Train Loss: 0.6634 Train Acc: 66.4923\n",
            "Epoch [1/15] Validation Loss: 3.2839 Validation Acc: 65.2706\n",
            "Epoch [2/15] Train Loss: 0.6354 Train Acc: 67.8067\n",
            "Epoch [2/15] Validation Loss: 0.6302 Validation Acc: 66.7161\n",
            "Epoch [3/15] Train Loss: 0.6173 Train Acc: 68.2056\n",
            "Epoch [3/15] Validation Loss: 0.6841 Validation Acc: 62.3054\n",
            "Epoch [4/15] Train Loss: 0.5744 Train Acc: 70.1020\n",
            "Epoch [4/15] Validation Loss: 0.5497 Validation Acc: 72.1646\n",
            "Epoch [5/15] Train Loss: 0.5563 Train Acc: 72.4235\n",
            "Epoch [5/15] Validation Loss: 1.0711 Validation Acc: 72.0534\n",
            "Epoch [6/15] Train Loss: 0.5638 Train Acc: 72.2992\n",
            "Epoch [6/15] Validation Loss: 0.6230 Validation Acc: 72.9059\n",
            "Epoch [7/15] Train Loss: 0.5254 Train Acc: 75.2223\n",
            "Epoch [7/15] Validation Loss: 0.5540 Validation Acc: 74.8332\n",
            "Epoch [8/15] Train Loss: 0.5001 Train Acc: 77.3019\n",
            "Epoch [8/15] Validation Loss: 0.4970 Validation Acc: 78.0578\n",
            "Epoch [9/15] Train Loss: 0.4519 Train Acc: 79.2964\n",
            "Epoch [9/15] Validation Loss: 0.4379 Validation Acc: 80.6523\n",
            "Epoch [10/15] Train Loss: 0.4419 Train Acc: 79.8849\n",
            "Epoch [10/15] Validation Loss: 0.6233 Validation Acc: 74.5738\n",
            "Epoch [11/15] Train Loss: 0.4282 Train Acc: 80.1923\n",
            "Epoch [11/15] Validation Loss: 0.4158 Validation Acc: 81.5048\n",
            "Epoch [12/15] Train Loss: 0.4135 Train Acc: 81.4805\n",
            "Epoch [12/15] Validation Loss: 0.4556 Validation Acc: 79.6887\n",
            "Epoch [13/15] Train Loss: 0.3898 Train Acc: 82.5464\n",
            "Epoch [13/15] Validation Loss: 0.5547 Validation Acc: 75.2039\n",
            "Epoch [14/15] Train Loss: 0.3936 Train Acc: 82.5595\n",
            "Epoch [14/15] Validation Loss: 0.3662 Validation Acc: 84.0993\n",
            "Epoch [15/15] Train Loss: 0.3763 Train Acc: 83.7170\n",
            "Epoch [15/15] Validation Loss: 0.7250 Validation Acc: 64.9370\n"
          ]
        },
        {
          "data": {
            "text/html": [
              "Waiting for W&B process to finish... <strong style=\"color:green\">(success).</strong>"
            ],
            "text/plain": [
              "<IPython.core.display.HTML object>"
            ]
          },
          "metadata": {},
          "output_type": "display_data"
        },
        {
          "data": {
            "application/vnd.jupyter.widget-view+json": {
              "model_id": "d65d5cd78266453692edf19420b0ddec",
              "version_major": 2,
              "version_minor": 0
            },
            "text/plain": [
              "VBox(children=(Label(value='0.001 MB of 0.001 MB uploaded (0.000 MB deduped)\\r'), FloatProgress(value=1.0, max…"
            ]
          },
          "metadata": {},
          "output_type": "display_data"
        },
        {
          "data": {
            "text/html": [
              "<style>\n",
              "    table.wandb td:nth-child(1) { padding: 0 10px; text-align: left ; width: auto;} td:nth-child(2) {text-align: left ; width: 100%}\n",
              "    .wandb-row { display: flex; flex-direction: row; flex-wrap: wrap; justify-content: flex-start; width: 100% }\n",
              "    .wandb-col { display: flex; flex-direction: column; flex-basis: 100%; flex: 1; padding: 10px; }\n",
              "    </style>\n",
              "<div class=\"wandb-row\"><div class=\"wandb-col\"><h3>Run history:</h3><br/><table class=\"wandb\"><tr><td>Train Accuracy</td><td>▁▂▂▂▃▃▅▅▆▆▇▇███</td></tr><tr><td>Train Loss</td><td>█▇▇▆▅▆▅▄▃▃▂▂▁▁▁</td></tr><tr><td>Validation Accuracy</td><td>▂▂▁▄▄▄▅▆▇▅▇▇▅█▂</td></tr><tr><td>Validation Loss</td><td>█▂▂▁▃▂▁▁▁▂▁▁▁▁▂</td></tr></table><br/></div><div class=\"wandb-col\"><h3>Run summary:</h3><br/><table class=\"wandb\"><tr><td>Train Accuracy</td><td>83.71698</td></tr><tr><td>Train Loss</td><td>0.37631</td></tr><tr><td>Validation Accuracy</td><td>64.93699</td></tr><tr><td>Validation Loss</td><td>0.72505</td></tr></table><br/></div></div>"
            ],
            "text/plain": [
              "<IPython.core.display.HTML object>"
            ]
          },
          "metadata": {},
          "output_type": "display_data"
        },
        {
          "data": {
            "text/html": [
              " View run <strong style=\"color:#cdcd00\">Run_Without_Pretrained</strong> at: <a href='https://wandb.ai/rifat004/CatvsDog_EfficientNetV2B2/runs/qi05qcf4' target=\"_blank\">https://wandb.ai/rifat004/CatvsDog_EfficientNetV2B2/runs/qi05qcf4</a><br/>Synced 5 W&B file(s), 0 media file(s), 0 artifact file(s) and 0 other file(s)"
            ],
            "text/plain": [
              "<IPython.core.display.HTML object>"
            ]
          },
          "metadata": {},
          "output_type": "display_data"
        },
        {
          "data": {
            "text/html": [
              "Find logs at: <code>./wandb/run-20230819_155949-qi05qcf4/logs</code>"
            ],
            "text/plain": [
              "<IPython.core.display.HTML object>"
            ]
          },
          "metadata": {},
          "output_type": "display_data"
        }
      ],
      "source": [
        "# Training loop with model checkpointing and WANDB logging\n",
        "num_epochs = 15\n",
        "best_accuracy = 0.0\n",
        "best_epoch = 0\n",
        "\n",
        "# Create empty lists to store training and validation loss values (need for plots)\n",
        "train_losses = []\n",
        "val_losses = []\n",
        "\n",
        "# Define the path to the directory where models will be saved\n",
        "model_save_dir = '/content/drive/MyDrive/Models'\n",
        "\n",
        "for epoch in range(num_epochs):\n",
        "    # Set the model to training mode\n",
        "    model.train()\n",
        "\n",
        "    # Initialize variables for tracking training loss and accuracy\n",
        "    train_loss = 0.0\n",
        "    correct_train = 0\n",
        "    total_train = 0\n",
        "\n",
        "    for inputs, labels in train_loader:\n",
        "        # Move inputs and labels to the GPU if available\n",
        "        inputs, labels = inputs.to(device), labels.to(device)\n",
        "\n",
        "        # Zero the parameter gradients\n",
        "        optimizer.zero_grad()\n",
        "\n",
        "        # Forward pass\n",
        "        outputs = model(inputs)\n",
        "        loss = criterion(outputs, labels)\n",
        "\n",
        "        # Backward pass and optimize\n",
        "        loss.backward()\n",
        "        optimizer.step()\n",
        "\n",
        "        # Track the training loss\n",
        "        train_loss += loss.item()\n",
        "\n",
        "        # Track the accuracy\n",
        "        _, predicted = torch.max(outputs.data, 1)\n",
        "        total_train += labels.size(0)\n",
        "        correct_train += (predicted == labels).sum().item()\n",
        "\n",
        "    # Calculate average training loss and accuracy\n",
        "    avg_train_loss = train_loss / len(train_loader)\n",
        "    train_accuracy = 100 * correct_train / total_train\n",
        "\n",
        "    # Print training loss and accuracy for the epoch\n",
        "    print(f'Epoch [{epoch + 1}/{num_epochs}] Train Loss: {avg_train_loss:.4f} Train Acc: {train_accuracy:.4f}')\n",
        "\n",
        "    # Set the model to evaluation mode\n",
        "    model.eval()\n",
        "\n",
        "    # Initialize variables for tracking validation loss and accuracy\n",
        "    val_loss = 0.0\n",
        "    correct_val = 0\n",
        "    total_val = 0\n",
        "\n",
        "    for inputs, labels in validation_loader:\n",
        "        # Move inputs and labels to the GPU if available\n",
        "        inputs, labels = inputs.to(device), labels.to(device)\n",
        "\n",
        "        # Forward pass\n",
        "        outputs = model(inputs)\n",
        "        loss = criterion(outputs, labels)\n",
        "\n",
        "        # Track the validation loss\n",
        "        val_loss += loss.item()\n",
        "\n",
        "        # Track the accuracy\n",
        "        _, predicted = torch.max(outputs.data, 1)\n",
        "        total_val += labels.size(0)\n",
        "        correct_val += (predicted == labels).sum().item()\n",
        "\n",
        "    # Calculate average validation loss and accuracy\n",
        "    avg_val_loss = val_loss / len(validation_loader)\n",
        "    val_accuracy = 100 * correct_val / total_val\n",
        "\n",
        "    # Print validation loss and accuracy for the epoch\n",
        "    print(f'Epoch [{epoch + 1}/{num_epochs}] Validation Loss: {avg_val_loss:.4f} Validation Acc: {val_accuracy:.4f}')\n",
        "\n",
        "    # Append the losses to the lists\n",
        "    train_losses.append(avg_train_loss)\n",
        "    val_losses.append(avg_val_loss)\n",
        "\n",
        "\n",
        "    # Save the model after each epoch to the drive\n",
        "    checkpoint_filename = os.path.join(model_save_dir, f'PT_EfficientNetV2B2_Not_pretrained_{epoch + 1}.pth')\n",
        "    torch.save(model.state_dict(), checkpoint_filename)\n",
        "    # Save the model after each epoch to the bucket\n",
        "    !gsutil -mq cp {checkpoint_filename} gs://a/b/c/models/cats_vs_dogs_task/rifat/PT_EfficientNetV2B2/model/  #modify cloud path\n",
        "\n",
        "    # Check if the current model has a better validation accuracy\n",
        "    if val_accuracy > best_accuracy:\n",
        "        best_accuracy = val_accuracy\n",
        "        best_epoch = epoch\n",
        "\n",
        "    # Log metrics to WandB at the end of each epoch\n",
        "    wandb.log({\n",
        "        'Train Loss': avg_train_loss,\n",
        "        'Train Accuracy': train_accuracy,\n",
        "        'Validation Loss': avg_val_loss,\n",
        "        'Validation Accuracy': val_accuracy\n",
        "    })\n",
        "\n",
        "wandb.finish()"
      ]
    },
    {
      "cell_type": "code",
      "execution_count": 14,
      "metadata": {
        "colab": {
          "base_uri": "https://localhost:8080/"
        },
        "id": "Ple8mVx4RCkG",
        "outputId": "dfb11c57-0505-4027-c48e-c1e6bb810425"
      },
      "outputs": [
        {
          "name": "stdout",
          "output_type": "stream",
          "text": [
            "/content/drive/MyDrive/Models/model_epoch_14.pth\n"
          ]
        }
      ],
      "source": [
        "# Load the best model checkpoint based on validation accuracy\n",
        "best_checkpoint_filename = os.path.join(model_save_dir, f'model_epoch_{best_epoch + 1}.pth')\n",
        "print(best_checkpoint_filename)"
      ]
    },
    {
      "cell_type": "markdown",
      "metadata": {
        "id": "exwQ_lUQRLfm"
      },
      "source": [
        "### Testing the model on test set"
      ]
    },
    {
      "cell_type": "code",
      "execution_count": 10,
      "metadata": {
        "colab": {
          "base_uri": "https://localhost:8080/"
        },
        "id": "3C4-_6wlRJBm",
        "outputId": "e37fc865-3ba3-45ab-8868-d96ab2b8bb68"
      },
      "outputs": [
        {
          "name": "stdout",
          "output_type": "stream",
          "text": [
            "Best Model Test Loss: 0.3447 Test Acc: 85.1860\n"
          ]
        }
      ],
      "source": [
        "# reduce batch size if CUDA ran out of memory. (after restarting runtime)\n",
        "batch_size = 32\n",
        "test_loader = DataLoader(test_dataset, batch_size=batch_size, shuffle=False)\n",
        "\n",
        "#loading model\n",
        "model.load_state_dict(torch.load('/content/drive/MyDrive/Models/PT_EfficientNetV2B2_Not_pretrained_14.pth'))\n",
        "\n",
        "# Calculate test accuracy using the best model\n",
        "model.eval()\n",
        "test_loss = 0.0\n",
        "correct_test = 0\n",
        "total_test = 0\n",
        "\n",
        "for inputs, labels in test_loader:\n",
        "    # Move inputs and labels to the GPU if available\n",
        "    inputs, labels = inputs.to(device), labels.to(device)\n",
        "\n",
        "    # Forward pass\n",
        "    outputs = model(inputs)\n",
        "    loss = criterion(outputs, labels)\n",
        "\n",
        "    # Track the test loss\n",
        "    test_loss += loss.item()\n",
        "\n",
        "    # Track the accuracy\n",
        "    _, predicted = torch.max(outputs.data, 1)\n",
        "    total_test += labels.size(0)\n",
        "    correct_test += (predicted == labels).sum().item()\n",
        "\n",
        "# Calculate average test loss and accuracy\n",
        "avg_test_loss = test_loss / len(test_loader)\n",
        "test_accuracy = 100 * correct_test / total_test\n",
        "\n",
        "# Print test loss and accuracy using the best model\n",
        "print(f'Best Model Test Loss: {avg_test_loss:.4f} Test Acc: {test_accuracy:.4f}')\n",
        "\n",
        "# Gather true and predicted labels for classification report and confusion matrix\n",
        "true_labels = []\n",
        "predicted_labels = []\n",
        "\n",
        "for inputs, labels in test_loader:\n",
        "    # Move inputs to the GPU if available\n",
        "    inputs = inputs.to(device)\n",
        "\n",
        "    # Forward pass\n",
        "    outputs = model(inputs)\n",
        "    _, predicted = torch.max(outputs.data, 1)\n",
        "    true_labels.extend(labels.cpu().numpy())\n",
        "    predicted_labels.extend(predicted.cpu().numpy())\n",
        "\n",
        "# Convert the lists to numpy arrays\n",
        "true_labels = np.array(true_labels)\n",
        "predicted_labels = np.array(predicted_labels)\n",
        "\n"
      ]
    },
    {
      "cell_type": "code",
      "execution_count": 11,
      "metadata": {
        "colab": {
          "base_uri": "https://localhost:8080/",
          "height": 738
        },
        "id": "Ke53r7i6Rpdt",
        "outputId": "5aa2788e-e92b-4f81-a809-db3dcd86cb50"
      },
      "outputs": [
        {
          "name": "stdout",
          "output_type": "stream",
          "text": [
            "Classification Report:\n",
            "              precision    recall  f1-score   support\n",
            "\n",
            "           0       0.91      0.88      0.90      3505\n",
            "           1       0.69      0.76      0.72      1227\n",
            "\n",
            "    accuracy                           0.85      4732\n",
            "   macro avg       0.80      0.82      0.81      4732\n",
            "weighted avg       0.86      0.85      0.85      4732\n",
            "\n"
          ]
        },
        {
          "data": {
            "image/png": "[encoded data removed]",
            "text/plain": [
              "<Figure size 800x600 with 2 Axes>"
            ]
          },
          "metadata": {},
          "output_type": "display_data"
        }
      ],
      "source": [
        "from sklearn.metrics import confusion_matrix\n",
        "import seaborn as sns\n",
        "from sklearn.metrics import classification_report\n",
        "import matplotlib.pyplot as plt\n",
        "import seaborn as sns\n",
        "\n",
        "print(\"Classification Report:\")\n",
        "print(classification_report(true_labels, predicted_labels))\n",
        "\n",
        "cm = confusion_matrix(true_labels, predicted_labels)\n",
        "plt.figure(figsize=(8, 6))\n",
        "sns.heatmap(cm, annot=True, fmt='d', cmap='Blues', xticklabels=['Cat', 'Dog'], yticklabels=['Cat', 'Dog'])\n",
        "plt.xlabel('Predicted')\n",
        "plt.ylabel('True')\n",
        "plt.title('Confusion Matrix')\n",
        "plt.show()"
      ]
    }
  ],
  "metadata": {
    "accelerator": "GPU",
    "colab": {
      "gpuType": "T4",
      "provenance": []
    },
    "kernelspec": {
      "display_name": "Python 3",
      "name": "python3"
    },
    "language_info": {
      "name": "python"
    },
    "widgets": {
      "application/vnd.jupyter.widget-state+json": {
        "05a57d0ea47c43cb96a7aa3a10c4440b": {
          "model_module": "@jupyter-widgets/controls",
          "model_module_version": "1.5.0",
          "model_name": "FloatProgressModel",
          "state": {
            "_dom_classes": [],
            "_model_module": "@jupyter-widgets/controls",
            "_model_module_version": "1.5.0",
            "_model_name": "FloatProgressModel",
            "_view_count": null,
            "_view_module": "@jupyter-widgets/controls",
            "_view_module_version": "1.5.0",
            "_view_name": "ProgressView",
            "bar_style": "",
            "description": "",
            "description_tooltip": null,
            "layout": "IPY_MODEL_9138a3af225d4251bd37fc850c709d70",
            "max": 1,
            "min": 0,
            "orientation": "horizontal",
            "style": "IPY_MODEL_2b56925459ae47a7ac8da8157ccabd7c",
            "value": 1
          }
        },
        "0bfb1ce86d104999a4a68ab807e551a3": {
          "model_module": "@jupyter-widgets/base",
          "model_module_version": "1.2.0",
          "model_name": "LayoutModel",
          "state": {
            "_model_module": "@jupyter-widgets/base",
            "_model_module_version": "1.2.0",
            "_model_name": "LayoutModel",
            "_view_count": null,
            "_view_module": "@jupyter-widgets/base",
            "_view_module_version": "1.2.0",
            "_view_name": "LayoutView",
            "align_content": null,
            "align_items": null,
            "align_self": null,
            "border": null,
            "bottom": null,
            "display": null,
            "flex": null,
            "flex_flow": null,
            "grid_area": null,
            "grid_auto_columns": null,
            "grid_auto_flow": null,
            "grid_auto_rows": null,
            "grid_column": null,
            "grid_gap": null,
            "grid_row": null,
            "grid_template_areas": null,
            "grid_template_columns": null,
            "grid_template_rows": null,
            "height": null,
            "justify_content": null,
            "justify_items": null,
            "left": null,
            "margin": null,
            "max_height": null,
            "max_width": null,
            "min_height": null,
            "min_width": null,
            "object_fit": null,
            "object_position": null,
            "order": null,
            "overflow": null,
            "overflow_x": null,
            "overflow_y": null,
            "padding": null,
            "right": null,
            "top": null,
            "visibility": null,
            "width": null
          }
        },
        "2b56925459ae47a7ac8da8157ccabd7c": {
          "model_module": "@jupyter-widgets/controls",
          "model_module_version": "1.5.0",
          "model_name": "ProgressStyleModel",
          "state": {
            "_model_module": "@jupyter-widgets/controls",
            "_model_module_version": "1.5.0",
            "_model_name": "ProgressStyleModel",
            "_view_count": null,
            "_view_module": "@jupyter-widgets/base",
            "_view_module_version": "1.2.0",
            "_view_name": "StyleView",
            "bar_color": null,
            "description_width": ""
          }
        },
        "7225e974b2f044e9969c1e44710329e5": {
          "model_module": "@jupyter-widgets/controls",
          "model_module_version": "1.5.0",
          "model_name": "LabelModel",
          "state": {
            "_dom_classes": [],
            "_model_module": "@jupyter-widgets/controls",
            "_model_module_version": "1.5.0",
            "_model_name": "LabelModel",
            "_view_count": null,
            "_view_module": "@jupyter-widgets/controls",
            "_view_module_version": "1.5.0",
            "_view_name": "LabelView",
            "description": "",
            "description_tooltip": null,
            "layout": "IPY_MODEL_0bfb1ce86d104999a4a68ab807e551a3",
            "placeholder": "​",
            "style": "IPY_MODEL_ce8a1982f9d3413fa2e701b7b4a4979d",
            "value": "0.012 MB of 0.012 MB uploaded (0.000 MB deduped)\r"
          }
        },
        "9138a3af225d4251bd37fc850c709d70": {
          "model_module": "@jupyter-widgets/base",
          "model_module_version": "1.2.0",
          "model_name": "LayoutModel",
          "state": {
            "_model_module": "@jupyter-widgets/base",
            "_model_module_version": "1.2.0",
            "_model_name": "LayoutModel",
            "_view_count": null,
            "_view_module": "@jupyter-widgets/base",
            "_view_module_version": "1.2.0",
            "_view_name": "LayoutView",
            "align_content": null,
            "align_items": null,
            "align_self": null,
            "border": null,
            "bottom": null,
            "display": null,
            "flex": null,
            "flex_flow": null,
            "grid_area": null,
            "grid_auto_columns": null,
            "grid_auto_flow": null,
            "grid_auto_rows": null,
            "grid_column": null,
            "grid_gap": null,
            "grid_row": null,
            "grid_template_areas": null,
            "grid_template_columns": null,
            "grid_template_rows": null,
            "height": null,
            "justify_content": null,
            "justify_items": null,
            "left": null,
            "margin": null,
            "max_height": null,
            "max_width": null,
            "min_height": null,
            "min_width": null,
            "object_fit": null,
            "object_position": null,
            "order": null,
            "overflow": null,
            "overflow_x": null,
            "overflow_y": null,
            "padding": null,
            "right": null,
            "top": null,
            "visibility": null,
            "width": null
          }
        },
        "b0c35789530a40cbbd6d89b7ea8c3161": {
          "model_module": "@jupyter-widgets/base",
          "model_module_version": "1.2.0",
          "model_name": "LayoutModel",
          "state": {
            "_model_module": "@jupyter-widgets/base",
            "_model_module_version": "1.2.0",
            "_model_name": "LayoutModel",
            "_view_count": null,
            "_view_module": "@jupyter-widgets/base",
            "_view_module_version": "1.2.0",
            "_view_name": "LayoutView",
            "align_content": null,
            "align_items": null,
            "align_self": null,
            "border": null,
            "bottom": null,
            "display": null,
            "flex": null,
            "flex_flow": null,
            "grid_area": null,
            "grid_auto_columns": null,
            "grid_auto_flow": null,
            "grid_auto_rows": null,
            "grid_column": null,
            "grid_gap": null,
            "grid_row": null,
            "grid_template_areas": null,
            "grid_template_columns": null,
            "grid_template_rows": null,
            "height": null,
            "justify_content": null,
            "justify_items": null,
            "left": null,
            "margin": null,
            "max_height": null,
            "max_width": null,
            "min_height": null,
            "min_width": null,
            "object_fit": null,
            "object_position": null,
            "order": null,
            "overflow": null,
            "overflow_x": null,
            "overflow_y": null,
            "padding": null,
            "right": null,
            "top": null,
            "visibility": null,
            "width": null
          }
        },
        "ce8a1982f9d3413fa2e701b7b4a4979d": {
          "model_module": "@jupyter-widgets/controls",
          "model_module_version": "1.5.0",
          "model_name": "DescriptionStyleModel",
          "state": {
            "_model_module": "@jupyter-widgets/controls",
            "_model_module_version": "1.5.0",
            "_model_name": "DescriptionStyleModel",
            "_view_count": null,
            "_view_module": "@jupyter-widgets/base",
            "_view_module_version": "1.2.0",
            "_view_name": "StyleView",
            "description_width": ""
          }
        },
        "d65d5cd78266453692edf19420b0ddec": {
          "model_module": "@jupyter-widgets/controls",
          "model_module_version": "1.5.0",
          "model_name": "VBoxModel",
          "state": {
            "_dom_classes": [],
            "_model_module": "@jupyter-widgets/controls",
            "_model_module_version": "1.5.0",
            "_model_name": "VBoxModel",
            "_view_count": null,
            "_view_module": "@jupyter-widgets/controls",
            "_view_module_version": "1.5.0",
            "_view_name": "VBoxView",
            "box_style": "",
            "children": [
              "IPY_MODEL_7225e974b2f044e9969c1e44710329e5",
              "IPY_MODEL_05a57d0ea47c43cb96a7aa3a10c4440b"
            ],
            "layout": "IPY_MODEL_b0c35789530a40cbbd6d89b7ea8c3161"
          }
        }
      }
    }
  },
  "nbformat": 4,
  "nbformat_minor": 0
}
