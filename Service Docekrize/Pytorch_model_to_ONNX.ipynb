{
  "cells": [
    {
      "cell_type": "code",
      "execution_count": null,
      "metadata": {
        "id": "0Ft5tPLYZ7k4"
      },
      "outputs": [],
      "source": [
        "!pip install timm\n",
        "!pip install poutyne\n",
        "!pip install onnx\n",
        "!pip install onnxruntime"
      ]
    },
    {
      "cell_type": "code",
      "execution_count": 5,
      "metadata": {
        "colab": {
          "base_uri": "https://localhost:8080/"
        },
        "id": "nJgPzHuHf6Li",
        "outputId": "1d73f0ef-40da-4e65-f848-c77971cbb694"
      },
      "outputs": [
        {
          "name": "stdout",
          "output_type": "stream",
          "text": [
            "Mounted at /content/drive\n"
          ]
        }
      ],
      "source": [
        "from google.colab import drive\n",
        "drive.mount('/content/drive')"
      ]
    },
    {
      "cell_type": "code",
      "execution_count": 6,
      "metadata": {
        "id": "i7mpNseCln1s"
      },
      "outputs": [],
      "source": [
        "import torch\n",
        "import torch.onnx\n",
        "import timm\n",
        "import os"
      ]
    },
    {
      "cell_type": "markdown",
      "metadata": {
        "id": "1DzhUU-zj6pT"
      },
      "source": [
        "## Scratch Model to ONNX"
      ]
    },
    {
      "cell_type": "code",
      "execution_count": 7,
      "metadata": {
        "colab": {
          "base_uri": "https://localhost:8080/"
        },
        "id": "hUo80g4Uj6aN",
        "outputId": "ecc446cb-8ad7-42d5-816e-ee033726b477"
      },
      "outputs": [
        {
          "name": "stdout",
          "output_type": "stream",
          "text": [
            "============= Diagnostic Run torch.onnx.export version 2.0.1+cu118 =============\n",
            "verbose: False, log level: Level.ERROR\n",
            "======================= 0 NONE 0 NOTE 0 WARNING 0 ERROR ========================\n",
            "\n",
            "Scratch-trained model converted to ONNX and saved at: /content/drive/MyDrive/Dataset/Models/scratch_model.onnx\n"
          ]
        }
      ],
      "source": [
        "# Define the path to the checkpoint file for the scratch model (not pretrained)\n",
        "scratch_checkpoint_path = '/content/drive/MyDrive/Dataset/Weights/Poutyne_EfficientNetV2B2_Not_pretrained_17.pth'\n",
        "\n",
        "device = torch.device(\"cuda:0\" if torch.cuda.is_available() else \"cpu\")\n",
        "\n",
        "# Define the same model architecture as used in training\n",
        "e_netv2b2_scratch = timm.create_model('tf_efficientnetv2_b2', pretrained=False, num_classes=2).to(device)\n",
        "\n",
        "# Load the model weights from the checkpoint file\n",
        "e_netv2b2_scratch.load_state_dict(torch.load(scratch_checkpoint_path, map_location=device))\n",
        "\n",
        "# Set the model to evaluation mode\n",
        "e_netv2b2_scratch.eval()\n",
        "\n",
        "# Create an dummy input tensor\n",
        "dummy_input = torch.randn(1, 3, 224, 224)\n",
        "\n",
        "# Define the path where you want to save the ONNX file\n",
        "onnx_export_path_scratch = '/content/drive/MyDrive/Dataset/Models/scratch_model.onnx'\n",
        "\n",
        "# Export the model to ONNX format\n",
        "torch.onnx.export(e_netv2b2_scratch, dummy_input, onnx_export_path_scratch, verbose=True)\n",
        "\n",
        "print(\"Scratch-trained model converted to ONNX and saved at:\", onnx_export_path_scratch)\n"
      ]
    },
    {
      "cell_type": "markdown",
      "metadata": {
        "id": "VPYdx016lVU_"
      },
      "source": [
        "## Pretrained Model to ONNX"
      ]
    },
    {
      "cell_type": "code",
      "execution_count": 8,
      "metadata": {
        "colab": {
          "base_uri": "https://localhost:8080/",
          "height": 138,
          "referenced_widgets": [
            "3a0bd7f4e673412b835dba7b34a7a975",
            "c53819f06d9b4c53b675b35dadba631f",
            "2a8115c149d54016a5876142ab048a28",
            "d25e16bdc25c44a48936fbdf044b49b8",
            "29a29dc6921944198478ad8fd946fb7c",
            "5d050bed1be546a8990e07cfc014d532",
            "ba8d0d53859f420791b27b8987f08b12",
            "f81b19774995411693adb91331ce0ca6",
            "d8f1b2e99e9649a2915f9d12db4bf29b",
            "8c5d04ecc9ac45b598bb662dbc8c5592",
            "7ea6284bc74948158627d080b4cb0053"
          ]
        },
        "id": "BHXeaHMqj6VA",
        "outputId": "6fffc168-85ac-4cae-aa7f-3bdc1e3e2090"
      },
      "outputs": [
        {
          "data": {
            "application/vnd.jupyter.widget-view+json": {
              "model_id": "3a0bd7f4e673412b835dba7b34a7a975",
              "version_major": 2,
              "version_minor": 0
            },
            "text/plain": [
              "Downloading model.safetensors:   0%|          | 0.00/40.8M [00:00<?, ?B/s]"
            ]
          },
          "metadata": {},
          "output_type": "display_data"
        },
        {
          "name": "stdout",
          "output_type": "stream",
          "text": [
            "============= Diagnostic Run torch.onnx.export version 2.0.1+cu118 =============\n",
            "verbose: False, log level: Level.ERROR\n",
            "======================= 0 NONE 0 NOTE 0 WARNING 0 ERROR ========================\n",
            "\n",
            "Pretrained model converted to ONNX and saved at: /content/drive/MyDrive/Dataset/Models/pretrained_model.onnx\n"
          ]
        }
      ],
      "source": [
        "# Define the path to the checkpoint file for the pretrained model\n",
        "pretrained_checkpoint_path = '/content/drive/MyDrive/Dataset/Weights/PT_EfficientNetV2B2_pretrained_7.pth'\n",
        "\n",
        "device = torch.device(\"cuda:0\" if torch.cuda.is_available() else \"cpu\")\n",
        "\n",
        "# Define the same model architecture as used in training\n",
        "e_netv2b2_pretrained = timm.create_model('tf_efficientnetv2_b2', pretrained=True)\n",
        "\n",
        "# Modify the final fully connected layer for your specific classification task\n",
        "num_classes = 2\n",
        "e_netv2b2_pretrained.classifier = torch.nn.Linear(e_netv2b2_pretrained.classifier.in_features, num_classes)\n",
        "\n",
        "# Load the model weights from the checkpoint file\n",
        "e_netv2b2_pretrained.load_state_dict(torch.load(pretrained_checkpoint_path, map_location=device))\n",
        "\n",
        "# Set the model to evaluation mode\n",
        "e_netv2b2_pretrained.eval()\n",
        "\n",
        "#define dummy input\n",
        "dummy_input = torch.randn(1, 3, 224, 224).to(device)\n",
        "\n",
        "# Define the path where you want to save the ONNX file\n",
        "onnx_export_path_pretrained = '/content/drive/MyDrive/Dataset/Models/pretrained_model.onnx'\n",
        "\n",
        "# Export the model to ONNX format\n",
        "torch.onnx.export(e_netv2b2_pretrained, dummy_input, onnx_export_path_pretrained, verbose=True)\n",
        "\n",
        "print(\"Pretrained model converted to ONNX and saved at:\", onnx_export_path_pretrained)"
      ]
    },
    {
      "cell_type": "code",
      "execution_count": null,
      "metadata": {},
      "outputs": [],
      "source": []
    }
  ],
  "metadata": {
    "colab": {
      "provenance": []
    },
    "kernelspec": {
      "display_name": "Python 3",
      "name": "python3"
    },
    "language_info": {
      "name": "python"
    },
    "widgets": {
      "application/vnd.jupyter.widget-state+json": {
        "29a29dc6921944198478ad8fd946fb7c": {
          "model_module": "@jupyter-widgets/base",
          "model_module_version": "1.2.0",
          "model_name": "LayoutModel",
          "state": {
            "_model_module": "@jupyter-widgets/base",
            "_model_module_version": "1.2.0",
            "_model_name": "LayoutModel",
            "_view_count": null,
            "_view_module": "@jupyter-widgets/base",
            "_view_module_version": "1.2.0",
            "_view_name": "LayoutView",
            "align_content": null,
            "align_items": null,
            "align_self": null,
            "border": null,
            "bottom": null,
            "display": null,
            "flex": null,
            "flex_flow": null,
            "grid_area": null,
            "grid_auto_columns": null,
            "grid_auto_flow": null,
            "grid_auto_rows": null,
            "grid_column": null,
            "grid_gap": null,
            "grid_row": null,
            "grid_template_areas": null,
            "grid_template_columns": null,
            "grid_template_rows": null,
            "height": null,
            "justify_content": null,
            "justify_items": null,
            "left": null,
            "margin": null,
            "max_height": null,
            "max_width": null,
            "min_height": null,
            "min_width": null,
            "object_fit": null,
            "object_position": null,
            "order": null,
            "overflow": null,
            "overflow_x": null,
            "overflow_y": null,
            "padding": null,
            "right": null,
            "top": null,
            "visibility": null,
            "width": null
          }
        },
        "2a8115c149d54016a5876142ab048a28": {
          "model_module": "@jupyter-widgets/controls",
          "model_module_version": "1.5.0",
          "model_name": "FloatProgressModel",
          "state": {
            "_dom_classes": [],
            "_model_module": "@jupyter-widgets/controls",
            "_model_module_version": "1.5.0",
            "_model_name": "FloatProgressModel",
            "_view_count": null,
            "_view_module": "@jupyter-widgets/controls",
            "_view_module_version": "1.5.0",
            "_view_name": "ProgressView",
            "bar_style": "success",
            "description": "",
            "description_tooltip": null,
            "layout": "IPY_MODEL_f81b19774995411693adb91331ce0ca6",
            "max": 40763772,
            "min": 0,
            "orientation": "horizontal",
            "style": "IPY_MODEL_d8f1b2e99e9649a2915f9d12db4bf29b",
            "value": 40763772
          }
        },
        "3a0bd7f4e673412b835dba7b34a7a975": {
          "model_module": "@jupyter-widgets/controls",
          "model_module_version": "1.5.0",
          "model_name": "HBoxModel",
          "state": {
            "_dom_classes": [],
            "_model_module": "@jupyter-widgets/controls",
            "_model_module_version": "1.5.0",
            "_model_name": "HBoxModel",
            "_view_count": null,
            "_view_module": "@jupyter-widgets/controls",
            "_view_module_version": "1.5.0",
            "_view_name": "HBoxView",
            "box_style": "",
            "children": [
              "IPY_MODEL_c53819f06d9b4c53b675b35dadba631f",
              "IPY_MODEL_2a8115c149d54016a5876142ab048a28",
              "IPY_MODEL_d25e16bdc25c44a48936fbdf044b49b8"
            ],
            "layout": "IPY_MODEL_29a29dc6921944198478ad8fd946fb7c"
          }
        },
        "5d050bed1be546a8990e07cfc014d532": {
          "model_module": "@jupyter-widgets/base",
          "model_module_version": "1.2.0",
          "model_name": "LayoutModel",
          "state": {
            "_model_module": "@jupyter-widgets/base",
            "_model_module_version": "1.2.0",
            "_model_name": "LayoutModel",
            "_view_count": null,
            "_view_module": "@jupyter-widgets/base",
            "_view_module_version": "1.2.0",
            "_view_name": "LayoutView",
            "align_content": null,
            "align_items": null,
            "align_self": null,
            "border": null,
            "bottom": null,
            "display": null,
            "flex": null,
            "flex_flow": null,
            "grid_area": null,
            "grid_auto_columns": null,
            "grid_auto_flow": null,
            "grid_auto_rows": null,
            "grid_column": null,
            "grid_gap": null,
            "grid_row": null,
            "grid_template_areas": null,
            "grid_template_columns": null,
            "grid_template_rows": null,
            "height": null,
            "justify_content": null,
            "justify_items": null,
            "left": null,
            "margin": null,
            "max_height": null,
            "max_width": null,
            "min_height": null,
            "min_width": null,
            "object_fit": null,
            "object_position": null,
            "order": null,
            "overflow": null,
            "overflow_x": null,
            "overflow_y": null,
            "padding": null,
            "right": null,
            "top": null,
            "visibility": null,
            "width": null
          }
        },
        "7ea6284bc74948158627d080b4cb0053": {
          "model_module": "@jupyter-widgets/controls",
          "model_module_version": "1.5.0",
          "model_name": "DescriptionStyleModel",
          "state": {
            "_model_module": "@jupyter-widgets/controls",
            "_model_module_version": "1.5.0",
            "_model_name": "DescriptionStyleModel",
            "_view_count": null,
            "_view_module": "@jupyter-widgets/base",
            "_view_module_version": "1.2.0",
            "_view_name": "StyleView",
            "description_width": ""
          }
        },
        "8c5d04ecc9ac45b598bb662dbc8c5592": {
          "model_module": "@jupyter-widgets/base",
          "model_module_version": "1.2.0",
          "model_name": "LayoutModel",
          "state": {
            "_model_module": "@jupyter-widgets/base",
            "_model_module_version": "1.2.0",
            "_model_name": "LayoutModel",
            "_view_count": null,
            "_view_module": "@jupyter-widgets/base",
            "_view_module_version": "1.2.0",
            "_view_name": "LayoutView",
            "align_content": null,
            "align_items": null,
            "align_self": null,
            "border": null,
            "bottom": null,
            "display": null,
            "flex": null,
            "flex_flow": null,
            "grid_area": null,
            "grid_auto_columns": null,
            "grid_auto_flow": null,
            "grid_auto_rows": null,
            "grid_column": null,
            "grid_gap": null,
            "grid_row": null,
            "grid_template_areas": null,
            "grid_template_columns": null,
            "grid_template_rows": null,
            "height": null,
            "justify_content": null,
            "justify_items": null,
            "left": null,
            "margin": null,
            "max_height": null,
            "max_width": null,
            "min_height": null,
            "min_width": null,
            "object_fit": null,
            "object_position": null,
            "order": null,
            "overflow": null,
            "overflow_x": null,
            "overflow_y": null,
            "padding": null,
            "right": null,
            "top": null,
            "visibility": null,
            "width": null
          }
        },
        "ba8d0d53859f420791b27b8987f08b12": {
          "model_module": "@jupyter-widgets/controls",
          "model_module_version": "1.5.0",
          "model_name": "DescriptionStyleModel",
          "state": {
            "_model_module": "@jupyter-widgets/controls",
            "_model_module_version": "1.5.0",
            "_model_name": "DescriptionStyleModel",
            "_view_count": null,
            "_view_module": "@jupyter-widgets/base",
            "_view_module_version": "1.2.0",
            "_view_name": "StyleView",
            "description_width": ""
          }
        },
        "c53819f06d9b4c53b675b35dadba631f": {
          "model_module": "@jupyter-widgets/controls",
          "model_module_version": "1.5.0",
          "model_name": "HTMLModel",
          "state": {
            "_dom_classes": [],
            "_model_module": "@jupyter-widgets/controls",
            "_model_module_version": "1.5.0",
            "_model_name": "HTMLModel",
            "_view_count": null,
            "_view_module": "@jupyter-widgets/controls",
            "_view_module_version": "1.5.0",
            "_view_name": "HTMLView",
            "description": "",
            "description_tooltip": null,
            "layout": "IPY_MODEL_5d050bed1be546a8990e07cfc014d532",
            "placeholder": "​",
            "style": "IPY_MODEL_ba8d0d53859f420791b27b8987f08b12",
            "value": "Downloading model.safetensors: 100%"
          }
        },
        "d25e16bdc25c44a48936fbdf044b49b8": {
          "model_module": "@jupyter-widgets/controls",
          "model_module_version": "1.5.0",
          "model_name": "HTMLModel",
          "state": {
            "_dom_classes": [],
            "_model_module": "@jupyter-widgets/controls",
            "_model_module_version": "1.5.0",
            "_model_name": "HTMLModel",
            "_view_count": null,
            "_view_module": "@jupyter-widgets/controls",
            "_view_module_version": "1.5.0",
            "_view_name": "HTMLView",
            "description": "",
            "description_tooltip": null,
            "layout": "IPY_MODEL_8c5d04ecc9ac45b598bb662dbc8c5592",
            "placeholder": "​",
            "style": "IPY_MODEL_7ea6284bc74948158627d080b4cb0053",
            "value": " 40.8M/40.8M [00:00&lt;00:00, 64.6MB/s]"
          }
        },
        "d8f1b2e99e9649a2915f9d12db4bf29b": {
          "model_module": "@jupyter-widgets/controls",
          "model_module_version": "1.5.0",
          "model_name": "ProgressStyleModel",
          "state": {
            "_model_module": "@jupyter-widgets/controls",
            "_model_module_version": "1.5.0",
            "_model_name": "ProgressStyleModel",
            "_view_count": null,
            "_view_module": "@jupyter-widgets/base",
            "_view_module_version": "1.2.0",
            "_view_name": "StyleView",
            "bar_color": null,
            "description_width": ""
          }
        },
        "f81b19774995411693adb91331ce0ca6": {
          "model_module": "@jupyter-widgets/base",
          "model_module_version": "1.2.0",
          "model_name": "LayoutModel",
          "state": {
            "_model_module": "@jupyter-widgets/base",
            "_model_module_version": "1.2.0",
            "_model_name": "LayoutModel",
            "_view_count": null,
            "_view_module": "@jupyter-widgets/base",
            "_view_module_version": "1.2.0",
            "_view_name": "LayoutView",
            "align_content": null,
            "align_items": null,
            "align_self": null,
            "border": null,
            "bottom": null,
            "display": null,
            "flex": null,
            "flex_flow": null,
            "grid_area": null,
            "grid_auto_columns": null,
            "grid_auto_flow": null,
            "grid_auto_rows": null,
            "grid_column": null,
            "grid_gap": null,
            "grid_row": null,
            "grid_template_areas": null,
            "grid_template_columns": null,
            "grid_template_rows": null,
            "height": null,
            "justify_content": null,
            "justify_items": null,
            "left": null,
            "margin": null,
            "max_height": null,
            "max_width": null,
            "min_height": null,
            "min_width": null,
            "object_fit": null,
            "object_position": null,
            "order": null,
            "overflow": null,
            "overflow_x": null,
            "overflow_y": null,
            "padding": null,
            "right": null,
            "top": null,
            "visibility": null,
            "width": null
          }
        }
      }
    }
  },
  "nbformat": 4,
  "nbformat_minor": 0
}
